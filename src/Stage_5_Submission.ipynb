{
 "cells": [
  {
   "cell_type": "markdown",
   "metadata": {},
   "source": [
    "# CZ4041 Group 28 Notebook 5\n",
    "This notebook is used for submission to Kaggle.\n",
    "\n",
    "To Run this Notebook, Import the .csv File from the Notebook 2 and 4<br>\n",
    "The .csv Files are:\n",
    "\n",
    "- test_missing_count.csv (Stage 2)\n",
    "- submission.csv (Stage 4)\n",
    "\n",
    "In addition, the <b>Threshold</b> Value from Notebook 3 is Required .\n",
    "\n",
    "This Notebook Concludes with a Generated submission.csv file which is Submitted to Kaggle."
   ]
  },
  {
   "cell_type": "code",
   "execution_count": null,
   "metadata": {
    "_cell_guid": "79c7e3d0-c299-4dcb-8224-4455121ee9b0",
    "_uuid": "d629ff2d2480ee46fbb7e2d37f6b5fab8052498a"
   },
   "outputs": [],
   "source": [
    "import pandas as pd\n",
    "import numpy as np\n",
    "\n",
    "df = pd.read_csv('../input/stage4/submission.csv')\n",
    "missingCount = pd.read_csv('../input/stage2/test_missing_count.csv')"
   ]
  },
  {
   "cell_type": "code",
   "execution_count": null,
   "metadata": {},
   "outputs": [],
   "source": [
    "for i, r in missingCount.iterrows():\n",
    "    if r[\"allMissing\"] > 0.947:\n",
    "        df.loc[df[\"ImageId_ClassId\"] == r[\"ImageId\"] + \"_1\", \"EncodedPixels\"] = \"\"\n",
    "        df.loc[df[\"ImageId_ClassId\"] == r[\"ImageId\"] + \"_2\", \"EncodedPixels\"] = \"\"\n",
    "        df.loc[df[\"ImageId_ClassId\"] == r[\"ImageId\"] + \"_3\", \"EncodedPixels\"] = \"\"\n",
    "        df.loc[df[\"ImageId_ClassId\"] == r[\"ImageId\"] + \"_4\", \"EncodedPixels\"] = \"\""
   ]
  },
  {
   "cell_type": "code",
   "execution_count": null,
   "metadata": {},
   "outputs": [],
   "source": [
    "df.to_csv('submission.csv',index=False)\n",
    "df.head()"
   ]
  },
  {
   "cell_type": "code",
   "execution_count": null,
   "metadata": {},
   "outputs": [],
   "source": []
  }
 ],
 "metadata": {
  "kernelspec": {
   "display_name": "Python 3",
   "language": "python",
   "name": "python3"
  },
  "language_info": {
   "codemirror_mode": {
    "name": "ipython",
    "version": 3
   },
   "file_extension": ".py",
   "mimetype": "text/x-python",
   "name": "python",
   "nbconvert_exporter": "python",
   "pygments_lexer": "ipython3",
   "version": "3.7.3"
  }
 },
 "nbformat": 4,
 "nbformat_minor": 4
}
