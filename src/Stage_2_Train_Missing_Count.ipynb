{
 "cells": [
  {
   "cell_type": "markdown",
   "metadata": {},
   "source": [
    "# CZ4041 Group 28 Notebook 2\n",
    "This Notebook Uses the Model Trained in Notebook 1 and Applies it to the Train Data Set. \n",
    "\n",
    "This Notebook Concludes with a Generated .csv file Indicating allMissing Score of the Train Dataset Passed through the Model.\n",
    "\n",
    "To Run this Notebook, Import the .h5 File from the Notebook 1<br>\n",
    "The .h5 File is:\n",
    "\n",
    "- model.h5"
   ]
  },
  {
   "cell_type": "code",
   "execution_count": null,
   "metadata": {
    "_cell_guid": "b1076dfc-b9ad-4769-8c92-a6c4dae69d19",
    "_uuid": "8f2839f25d086af736a60e9eeb907d3b93b6e0e5"
   },
   "outputs": [],
   "source": [
    "import os\n",
    "\n",
    "import cv2\n",
    "import matplotlib.pyplot as plt\n",
    "import numpy as np  # linear algebra\n",
    "import pandas as pd  # data processing, CSV file I/O (e.g. pd.read_csv)\n",
    "\n",
    "import keras\n",
    "import tensorflow as tf\n",
    "from keras import backend as K\n",
    "from keras import layers\n",
    "from keras.applications import DenseNet121\n",
    "from keras.callbacks import Callback, ModelCheckpoint, ReduceLROnPlateau\n",
    "from keras.models import Sequential\n",
    "from keras.optimizers import Adam, Nadam\n",
    "from keras.preprocessing.image import ImageDataGenerator\n",
    "from tqdm import tqdm"
   ]
  },
  {
   "cell_type": "markdown",
   "metadata": {},
   "source": [
    "## Using Trained Model on Train Set\n",
    "We will attempt to get the csv file for the train set. The csv file shall contain the allMissing scores for all the train images."
   ]
  },
  {
   "cell_type": "code",
   "execution_count": null,
   "metadata": {},
   "outputs": [],
   "source": [
    "def recall_m(y_true, y_pred):\n",
    "        true_positives = K.sum(K.round(K.clip(y_true * y_pred, 0, 1)))\n",
    "        possible_positives = K.sum(K.round(K.clip(y_true, 0, 1)))\n",
    "        recall = true_positives / (possible_positives + K.epsilon())\n",
    "        return recall\n",
    "\n",
    "def precision_m(y_true, y_pred):\n",
    "        true_positives = K.sum(K.round(K.clip(y_true * y_pred, 0, 1)))\n",
    "        predicted_positives = K.sum(K.round(K.clip(y_pred, 0, 1)))\n",
    "        precision = true_positives / (predicted_positives + K.epsilon())\n",
    "        return precision\n",
    "\n",
    "def f1_m(y_true, y_pred):\n",
    "    precision = precision_m(y_true, y_pred)\n",
    "    recall = recall_m(y_true, y_pred)\n",
    "    return 2*((precision*recall)/(precision+recall+K.epsilon()))"
   ]
  },
  {
   "cell_type": "code",
   "execution_count": null,
   "metadata": {},
   "outputs": [],
   "source": [
    "os.listdir('../input/stage1/')"
   ]
  },
  {
   "cell_type": "code",
   "execution_count": null,
   "metadata": {},
   "outputs": [],
   "source": [
    "from keras.models import load_model\n",
    "\n",
    "dependencies={ \"recall_m\": recall_m,\"precision_m\": precision_m,\"f1_m\": f1_m}\n",
    "model = load_model(\"../input/stage1/model.h5\",\n",
    "                   custom_objects = dependencies\n",
    "                  )"
   ]
  },
  {
   "cell_type": "code",
   "execution_count": null,
   "metadata": {},
   "outputs": [],
   "source": [
    "train_df = pd.read_csv('../input/severstal-steel-defect-detection/train.csv').sort_values(by=['ImageId'])"
   ]
  },
  {
   "cell_type": "code",
   "execution_count": null,
   "metadata": {},
   "outputs": [],
   "source": [
    "train_folder = os.path.join('/kaggle/input','/severstal-steel-defect-detection/train_images')\n",
    "\n",
    "train_images_set = set()\n",
    "for dirname, _, filenames in os.walk('/kaggle/input/severstal-steel-defect-detection'):\n",
    "    for filename in filenames:\n",
    "        if dirname == '/kaggle/input/severstal-steel-defect-detection/train_images':\n",
    "            train_images_set.add(filename)\n",
    "    if dirname == '/kaggle/input/severstal-steel-defect-detection/train_images':\n",
    "        print(dirname)\n",
    "        print(\"No_Train_Images: \" + str(len(train_images_set)))"
   ]
  },
  {
   "cell_type": "code",
   "execution_count": null,
   "metadata": {},
   "outputs": [],
   "source": [
    "# Images with Defects\n",
    "\n",
    "train_images_have_defects_set = set(train_df['ImageId'])\n",
    "len(train_images_have_defects_set)"
   ]
  },
  {
   "cell_type": "code",
   "execution_count": null,
   "metadata": {},
   "outputs": [],
   "source": [
    "# Using the Set with Defect, we can Derive the Non-Defect Set.\n",
    "\n",
    "train_images_no_defects_set = train_images_set - train_images_have_defects_set\n",
    "no_unique_train_images_no_defects = len(train_images_no_defects_set)\n",
    "\n",
    "print(\"Number of Images in train_df that have Defects >>>\", len(train_images_have_defects_set))\n",
    "print(\"Therefore, Number of Images that have No Defects >>>\", str(no_unique_train_images_no_defects))"
   ]
  },
  {
   "cell_type": "code",
   "execution_count": null,
   "metadata": {},
   "outputs": [],
   "source": [
    "# Here we Create a Containing Entries of All Images, and we Mark them as Defect = 0, Non-Defect = 1.\n",
    "train_images_no_defects_df = pd.DataFrame({\"ImageId\" : list(train_images_no_defects_set)})\n",
    "train_images_no_defects_df['allMissing'] = 1\n",
    "train_images_have_defects_df = pd.DataFrame({\"ImageId\" : list(train_images_have_defects_set)})\n",
    "train_images_have_defects_df['allMissing'] = 0\n",
    "frames = [train_images_no_defects_df, train_images_have_defects_df]\n",
    "train_nan_df = pd.concat(frames, ignore_index=True)\n",
    "\n",
    "print(train_nan_df.shape)\n",
    "display(train_nan_df)"
   ]
  },
  {
   "cell_type": "code",
   "execution_count": null,
   "metadata": {},
   "outputs": [],
   "source": [
    "# Create train generator\n",
    "def create_train_gen():\n",
    "    return ImageDataGenerator(rescale=1/255.).flow_from_dataframe(\n",
    "        train_nan_df,\n",
    "        directory='../input/severstal-steel-defect-detection/train_images/',\n",
    "        x_col='ImageId',\n",
    "        class_mode=None,\n",
    "        target_size=(256, 256),\n",
    "        batch_size= 32,\n",
    "        shuffle=False\n",
    "    )\n",
    "train_gen = create_train_gen()"
   ]
  },
  {
   "cell_type": "code",
   "execution_count": null,
   "metadata": {},
   "outputs": [],
   "source": [
    "y_test = model.predict_generator(\n",
    "    train_gen,\n",
    "    steps=len(train_gen),\n",
    "    verbose=1\n",
    ")"
   ]
  },
  {
   "cell_type": "code",
   "execution_count": null,
   "metadata": {},
   "outputs": [],
   "source": [
    "train_nan_df['allMissing'] = y_test\n",
    "\n",
    "train_nan_df.to_csv('train_missing_count.csv', index=False)"
   ]
  },
  {
   "cell_type": "markdown",
   "metadata": {},
   "source": [
    "## Results from Model on the Trained Dataset to be Downloaded as .csv File"
   ]
  },
  {
   "cell_type": "code",
   "execution_count": null,
   "metadata": {},
   "outputs": [],
   "source": [
    "os.chdir(r'/kaggle/working/')\n",
    "from IPython.display import FileLink\n",
    "\n",
    "train_nan_df['allMissing'] = y_test\n",
    "train_nan_df.to_csv('train_missing_count.csv', index=False)"
   ]
  },
  {
   "cell_type": "code",
   "execution_count": null,
   "metadata": {},
   "outputs": [],
   "source": [
    "FileLink(r'train_missing_count.csv')"
   ]
  }
 ],
 "metadata": {
  "kernelspec": {
   "display_name": "Python 3",
   "language": "python",
   "name": "python3"
  },
  "language_info": {
   "codemirror_mode": {
    "name": "ipython",
    "version": 3
   },
   "file_extension": ".py",
   "mimetype": "text/x-python",
   "name": "python",
   "nbconvert_exporter": "python",
   "pygments_lexer": "ipython3",
   "version": "3.7.3"
  }
 },
 "nbformat": 4,
 "nbformat_minor": 4
}
